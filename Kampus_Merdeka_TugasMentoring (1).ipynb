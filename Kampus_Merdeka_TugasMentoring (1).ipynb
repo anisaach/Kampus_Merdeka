{
  "nbformat": 4,
  "nbformat_minor": 0,
  "metadata": {
    "colab": {
      "provenance": []
    },
    "kernelspec": {
      "name": "python3",
      "display_name": "Python 3"
    },
    "language_info": {
      "name": "python"
    }
  },
  "cells": [
    {
      "cell_type": "code",
      "source": [
        "odd=[x for x in range(1,1000+1) if x %5!=0]\n",
        "squares=[x**2 for x in odd]\n",
        "total=sum(squares)\n",
        "ratarata=total/len(squares)\n",
        "print(total)\n",
        "print(ratarata)"
      ],
      "metadata": {
        "id": "Q4MNFOHXqdJJ",
        "colab": {
          "base_uri": "https://localhost:8080/"
        },
        "outputId": "e2ed22b6-5259-4141-b776-c30979cdf78d"
      },
      "execution_count": 1,
      "outputs": [
        {
          "output_type": "stream",
          "name": "stdout",
          "text": [
            "266666000\n",
            "333332.5\n"
          ]
        }
      ]
    },
    {
      "cell_type": "code",
      "source": [
        "a = int(input(\"masukan nilai a= \"))\n",
        "if a<100: #conditional form\n",
        "    print('small value')\n",
        "elif a<500:\n",
        "    print('medium value')\n",
        "else:\n",
        "    print('big value')"
      ],
      "metadata": {
        "colab": {
          "base_uri": "https://localhost:8080/"
        },
        "id": "oMiZmOEoncOi",
        "outputId": "327885f0-b2de-4c1d-a55c-ca493958fcd8"
      },
      "execution_count": 2,
      "outputs": [
        {
          "output_type": "stream",
          "name": "stdout",
          "text": [
            "masukan nilai a= 450\n",
            "medium value\n"
          ]
        }
      ]
    },
    {
      "cell_type": "code",
      "source": [
        "while True:\n",
        "  a = int(input(\"masukan a= \"))\n",
        "  if a<100:\n",
        "    print('small value')\n",
        "  else:\n",
        "    print('big value')\n",
        "    break"
      ],
      "metadata": {
        "colab": {
          "base_uri": "https://localhost:8080/"
        },
        "id": "fLY43qi9ofrJ",
        "outputId": "6c3f5dc4-7034-4587-ab02-5c7bc4563af4"
      },
      "execution_count": 3,
      "outputs": [
        {
          "output_type": "stream",
          "name": "stdout",
          "text": [
            "masukan a= 90\n",
            "small value\n",
            "masukan a= 240\n",
            "big value\n"
          ]
        }
      ]
    },
    {
      "cell_type": "code",
      "source": [
        "pas= input(\"password= \")\n",
        "panjang=len(pas)>=5\n",
        "c7=\"7\" in pas\n",
        "ca= \"A\" in pas\n",
        "char=\"@\" in pas\n",
        "if panjang!=True:\n",
        "    print(\"terlalu pendek\")\n",
        "elif c7!=True:\n",
        "    print(\"harus mengandung 7\")\n",
        "elif ca!=True:\n",
        "    print(\"harus mengandng A\")\n",
        "elif char!=True:\n",
        "    print(\"harus mengandng @\")\n",
        "else:\n",
        "    print(\"password valid\")"
      ],
      "metadata": {
        "colab": {
          "base_uri": "https://localhost:8080/"
        },
        "id": "cj24khymFFdK",
        "outputId": "d7f28816-ff72-405b-8e24-343fe9b70916"
      },
      "execution_count": 4,
      "outputs": [
        {
          "output_type": "stream",
          "name": "stdout",
          "text": [
            "password= Acnl7@nihs\n",
            "password valid\n"
          ]
        }
      ]
    },
    {
      "cell_type": "code",
      "source": [
        "while True:\n",
        "    pas= input(\"password= \")\n",
        "    panjang=len(pas)>=5\n",
        "    c8=\"8\" in pas\n",
        "    cx= \"X\" in pas\n",
        "    char=\"@\" in pas\n",
        "    if panjang!=True:\n",
        "        print(\"terlalu pendek\")\n",
        "    elif c8!=True:\n",
        "        print(\"harus mengandung 8\")\n",
        "    elif cx!=True:\n",
        "        print(\"harus mengandng X\")\n",
        "    elif char!=True:\n",
        "        print(\"harus mengandng @\")\n",
        "    else:\n",
        "        print(\"password valid\")\n",
        "        break"
      ],
      "metadata": {
        "colab": {
          "base_uri": "https://localhost:8080/"
        },
        "id": "JQmpJWY8F6gU",
        "outputId": "46705266-c8a1-441b-d956-064342338530"
      },
      "execution_count": 5,
      "outputs": [
        {
          "output_type": "stream",
          "name": "stdout",
          "text": [
            "password= gX89jjgf@f\n",
            "password valid\n"
          ]
        }
      ]
    },
    {
      "cell_type": "code",
      "source": [
        "count=0\n",
        "contoh_list=['abc', 'xbx', 'aba', '1221']\n",
        "for i in range(len(contoh_list)):\n",
        "    if(contoh_list[i][0] == contoh_list[i][-1]): #pendefinisian kondisi jika huruf pertama pada string indeks i sama dengan huruf terakhir pada string indeks i tersebut\n",
        "        count += 1 #jika sama, maka akan dihitung\n",
        "print('jumlah string yg sama=',count)"
      ],
      "metadata": {
        "colab": {
          "base_uri": "https://localhost:8080/"
        },
        "id": "0K5naUOiaasD",
        "outputId": "7120cbb4-4d21-45a0-e927-016036cc7810"
      },
      "execution_count": 6,
      "outputs": [
        {
          "output_type": "stream",
          "name": "stdout",
          "text": [
            "jumlah string yg sama= 3\n"
          ]
        }
      ]
    },
    {
      "cell_type": "code",
      "source": [
        "while True:\n",
        "  kata=input(\"masukan kata= \")\n",
        "  if kata == kata[::-1]:\n",
        "       print(\"string merupakan palidrom\")\n",
        "       break\n",
        "  else:\n",
        "       print(\"string bukan palidrom\")"
      ],
      "metadata": {
        "colab": {
          "base_uri": "https://localhost:8080/"
        },
        "id": "KIAz0YraGEJe",
        "outputId": "a3273998-e339-4287-9faa-b8c883d2a0f0"
      },
      "execution_count": 7,
      "outputs": [
        {
          "output_type": "stream",
          "name": "stdout",
          "text": [
            "masukan kata= kasur rusak\n",
            "string merupakan palidrom\n"
          ]
        }
      ]
    },
    {
      "cell_type": "code",
      "source": [
        "while True:\n",
        "    kata=input(\"masukan kata= \")\n",
        "    if kata == kata[::-1]:\n",
        "        print(\"string merupakan palidrom\")\n",
        "        break\n",
        "    else:\n",
        "        print(\"string bukan palidrom\")"
      ],
      "metadata": {
        "colab": {
          "base_uri": "https://localhost:8080/"
        },
        "id": "JuMGqAA_zHXc",
        "outputId": "a84a116d-6ff8-4e34-8ba3-0bb4e4cc8b88"
      },
      "execution_count": 8,
      "outputs": [
        {
          "output_type": "stream",
          "name": "stdout",
          "text": [
            "masukan kata= katak\n",
            "string merupakan palidrom\n"
          ]
        }
      ]
    },
    {
      "cell_type": "code",
      "source": [
        "def hitung(s):\n",
        "    d={'upper':0,'lower':0}\n",
        "    for x in s:\n",
        "        if x.isupper():\n",
        "            d['upper']+=1\n",
        "        elif x.islower():\n",
        "            d['lower']+=1\n",
        "    print('string kalimat:', s)\n",
        "    print('jumlah huruf kapital:',d['upper'])\n",
        "    print('jumlah huruf kecil',d['lower'])\n",
        "hitung('Modul Python MSIB')"
      ],
      "metadata": {
        "id": "79-V6Hg-GzsE",
        "outputId": "a58e0e32-5ff0-4476-d4a2-f4cbf88fe2f3",
        "colab": {
          "base_uri": "https://localhost:8080/"
        }
      },
      "execution_count": 9,
      "outputs": [
        {
          "output_type": "stream",
          "name": "stdout",
          "text": [
            "string kalimat: Modul Python MSIB\n",
            "jumlah huruf kapital: 6\n",
            "jumlah huruf kecil 9\n"
          ]
        }
      ]
    },
    {
      "cell_type": "code",
      "source": [
        "#Kata ganjil\n",
        "list1=[\"campire\",\"finale\",\"call\",\"kokobop\",\"hot\",\"mama\", \"monster\", \"bird\", \"nice\"]\n",
        "for i in list1:\n",
        "    if len(i)%2==1:\n",
        "        print(i,end=\" \")"
      ],
      "metadata": {
        "colab": {
          "base_uri": "https://localhost:8080/"
        },
        "id": "CrkyyQgmGFJR",
        "outputId": "9cc6f8cd-89b8-4b28-d750-7f6764b5af8b"
      },
      "execution_count": 10,
      "outputs": [
        {
          "output_type": "stream",
          "name": "stdout",
          "text": [
            "campire kokobop hot monster "
          ]
        }
      ]
    },
    {
      "cell_type": "code",
      "source": [
        "#kata genap\n",
        "list1=[\"campire\",\"dream\",\"call\",\"kokobop\",\"hot\",\"mama\", \"monster\", \"bird\", \"nice\"]\n",
        "for i in list1:\n",
        "    if len(i)%2==0:\n",
        "        print(i,end=\" \")"
      ],
      "metadata": {
        "colab": {
          "base_uri": "https://localhost:8080/"
        },
        "id": "EolCEUTjsQSH",
        "outputId": "7bd799ea-2ff2-4940-df9e-240ff69080b6"
      },
      "execution_count": 11,
      "outputs": [
        {
          "output_type": "stream",
          "name": "stdout",
          "text": [
            "call mama bird nice "
          ]
        }
      ]
    }
  ]
}